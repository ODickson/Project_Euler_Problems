{
  "nbformat": 4,
  "nbformat_minor": 0,
  "metadata": {
    "colab": {
      "name": "Problem 3: Largest prime factor",
      "provenance": []
    },
    "kernelspec": {
      "name": "python3",
      "display_name": "Python 3"
    },
    "language_info": {
      "name": "python"
    }
  },
  "cells": [
    {
      "cell_type": "markdown",
      "source": [
        "# Problem 3: Largest prime factor\n",
        "The prime factors of 13195 are 5, 7, 13 and 29.\n",
        "\n",
        "What is the largest prime factor of the number 600851475143 ?"
      ],
      "metadata": {
        "id": "hAcsR9EB-pRD"
      }
    },
    {
      "cell_type": "code",
      "source": [
        "def largest_prime_factor(n):\n",
        "    i = 2\n",
        "    while i * i <= n:\n",
        "        if n % i:\n",
        "            # print(\"\\nn % i\\nn:\",n,\"i:\",i,\"\\nres:\",n % i) \n",
        "            i += 1\n",
        "        else:\n",
        "            # print(\"\\nn //= i\\nn:\",n,\"i:\",i) \n",
        "            n //= i\n",
        "            # print(\"res:\",n)\n",
        "    return n"
      ],
      "metadata": {
        "id": "TPns9j0wwo0x"
      },
      "execution_count": 90,
      "outputs": []
    },
    {
      "cell_type": "code",
      "source": [
        "largest_prime_factor(600851475143)"
      ],
      "metadata": {
        "colab": {
          "base_uri": "https://localhost:8080/"
        },
        "id": "htaAb7Whwvzz",
        "outputId": "c6cfae58-db41-496f-bd71-85774a4f5326"
      },
      "execution_count": 91,
      "outputs": [
        {
          "output_type": "execute_result",
          "data": {
            "text/plain": [
              "6857"
            ]
          },
          "metadata": {},
          "execution_count": 91
        }
      ]
    }
  ]
}