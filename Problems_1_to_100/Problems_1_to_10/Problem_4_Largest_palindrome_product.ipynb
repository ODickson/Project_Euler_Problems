{
  "nbformat": 4,
  "nbformat_minor": 0,
  "metadata": {
    "colab": {
      "name": "Problem 4: Largest palindrome product",
      "provenance": []
    },
    "kernelspec": {
      "name": "python3",
      "display_name": "Python 3"
    },
    "language_info": {
      "name": "python"
    }
  },
  "cells": [
    {
      "cell_type": "markdown",
      "source": [
        "# Problem 4: Largest palindrome product\n",
        "A palindromic number reads the same both ways. The largest palindrome made from the product of two 2-digit numbers is 9009 = 91 × 99.\n",
        "\n",
        "Find the largest palindrome made from the product of two 3-digit numbers."
      ],
      "metadata": {
        "id": "hAcsR9EB-pRD"
      }
    },
    {
      "cell_type": "code",
      "source": [
        "def palindrome(n_digit): # checks all numbers\n",
        "    n = 0\n",
        "    aa = 0\n",
        "    bb = 0\n",
        "    for a in range(1*10**n_digit - 1, 1*10**(n_digit-1) , -1):\n",
        "        for b in range(a, 1*10**(n_digit-1) , -1):\n",
        "            x = a * b\n",
        "            if x > n:\n",
        "                s = str(a * b)\n",
        "                if s == s[::-1]:\n",
        "                    n = a * b\n",
        "                    aa = a\n",
        "                    bb = b\n",
        "    return (n,aa,bb)"
      ],
      "metadata": {
        "id": "TPns9j0wwo0x"
      },
      "execution_count": 92,
      "outputs": []
    },
    {
      "cell_type": "code",
      "source": [
        "palindrome(3)"
      ],
      "metadata": {
        "colab": {
          "base_uri": "https://localhost:8080/"
        },
        "id": "htaAb7Whwvzz",
        "outputId": "d93e874e-93c7-4a68-b71e-472d672f9551"
      },
      "execution_count": 93,
      "outputs": [
        {
          "output_type": "execute_result",
          "data": {
            "text/plain": [
              "(906609, 993, 913)"
            ]
          },
          "metadata": {},
          "execution_count": 93
        }
      ]
    }
  ]
}