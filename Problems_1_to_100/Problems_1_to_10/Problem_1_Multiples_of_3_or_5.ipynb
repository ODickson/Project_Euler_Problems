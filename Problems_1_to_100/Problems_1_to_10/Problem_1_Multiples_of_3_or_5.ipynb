{
  "nbformat": 4,
  "nbformat_minor": 0,
  "metadata": {
    "colab": {
      "name": "Problem 1: Multiples of 3 or 5",
      "provenance": []
    },
    "kernelspec": {
      "name": "python3",
      "display_name": "Python 3"
    },
    "language_info": {
      "name": "python"
    }
  },
  "cells": [
    {
      "cell_type": "markdown",
      "source": [
        "# Problem 1: Multiples of 3 or 5\n",
        "If we list all the natural numbers below 10 that are multiples of 3 or 5, we get 3, 5, 6 and 9. The sum of these multiples is 23.\n",
        "\n",
        "Find the sum of all the multiples of 3 or 5 below 1000."
      ],
      "metadata": {
        "id": "hAcsR9EB-pRD"
      }
    },
    {
      "cell_type": "code",
      "source": [
        "import numpy as np\n",
        "import math\n",
        "\n",
        "def sum_of_multiples_bruteforce(first_multiple, second_multiple, max_value):\n",
        "    cum_sum = 0\n",
        "    \n",
        "    for i in range(max_value):\n",
        "        if i % first_multiple == 0 or i % second_multiple == 0:\n",
        "            cum_sum += i\n",
        "    return cum_sum\n",
        "\n",
        "def sum_of_multiples_mathmatical(first_multiple, second_multiple, max_value):\n",
        "    first_sum = first_multiple*(\n",
        "        ((max_value -1)//first_multiple)*(((max_value -1)//first_multiple)+1)\n",
        "    )/2\n",
        "    \n",
        "    second_sum = second_multiple*(\n",
        "        ((max_value -1)//second_multiple)*(((max_value -1)//second_multiple)+1)\n",
        "    )/2\n",
        "    \n",
        "    common_divider = (first_multiple * second_multiple) /math.gcd(first_multiple, second_multiple)\n",
        "    \n",
        "    account_for_duplicates = common_divider*(\n",
        "        ((max_value -1)//common_divider)*(((max_value -1)//common_divider)+1)\n",
        "    )/2\n",
        "    \n",
        "    return first_sum + second_sum - account_for_duplicates\n",
        "\n",
        "def sum_of_multiples_numpy (first_multiple, second_multiple, max_value):\n",
        "    first_sum = np.sum(np.arange(0,max_value,first_multiple))\n",
        "    \n",
        "    second_sum = np.sum(np.arange(0,max_value,first_multiple))\n",
        "    \n",
        "    common_divider = (first_multiple * second_multiple) /math.gcd(first_multiple, second_multiple)\n",
        "    \n",
        "    account_for_duplicates = np.sum(np.arange(0,max_value,common_divider))\n",
        "    \n",
        "    return first_sum + second_sum - account_for_duplicates\n",
        "\n"
      ],
      "metadata": {
        "id": "TPns9j0wwo0x"
      },
      "execution_count": 75,
      "outputs": []
    },
    {
      "cell_type": "code",
      "source": [
        "sum_of_multiples_bruteforce(3,5,1000)"
      ],
      "metadata": {
        "colab": {
          "base_uri": "https://localhost:8080/"
        },
        "id": "htaAb7Whwvzz",
        "outputId": "546bafb9-a609-4386-a863-66fc86028e65"
      },
      "execution_count": 68,
      "outputs": [
        {
          "output_type": "execute_result",
          "data": {
            "text/plain": [
              "233168"
            ]
          },
          "metadata": {},
          "execution_count": 68
        }
      ]
    },
    {
      "cell_type": "code",
      "source": [
        "%%timeit\n",
        "sum_of_multiples_bruteforce(3,5,1000)"
      ],
      "metadata": {
        "colab": {
          "base_uri": "https://localhost:8080/"
        },
        "id": "zp6iKFhDxSo6",
        "outputId": "1315a7d1-edcc-4e08-d691-cf10b36578c8"
      },
      "execution_count": 78,
      "outputs": [
        {
          "output_type": "stream",
          "name": "stdout",
          "text": [
            "10000 loops, best of 5: 145 µs per loop\n"
          ]
        }
      ]
    },
    {
      "cell_type": "code",
      "source": [
        "sum_of_multiples_mathmatical(3,5,1000)"
      ],
      "metadata": {
        "colab": {
          "base_uri": "https://localhost:8080/"
        },
        "id": "8cSdLaVOw3cK",
        "outputId": "f0b56b0d-3f44-4742-adca-8cbeab15cb66"
      },
      "execution_count": 73,
      "outputs": [
        {
          "output_type": "execute_result",
          "data": {
            "text/plain": [
              "233168.0"
            ]
          },
          "metadata": {},
          "execution_count": 73
        }
      ]
    },
    {
      "cell_type": "code",
      "source": [
        "%%timeit\n",
        "sum_of_multiples_mathmatical(3,5,1000) "
      ],
      "metadata": {
        "colab": {
          "base_uri": "https://localhost:8080/"
        },
        "id": "2dgROBovxWVW",
        "outputId": "1ff12e17-10a3-4fac-83dd-c216af803589"
      },
      "execution_count": 80,
      "outputs": [
        {
          "output_type": "stream",
          "name": "stdout",
          "text": [
            "The slowest run took 10.60 times longer than the fastest. This could mean that an intermediate result is being cached.\n",
            "1000000 loops, best of 5: 1.33 µs per loop\n"
          ]
        }
      ]
    },
    {
      "cell_type": "code",
      "source": [
        "sum_of_multiples_numpy(3,5,1000) ### numpy cant handle massive numbers"
      ],
      "metadata": {
        "colab": {
          "base_uri": "https://localhost:8080/"
        },
        "id": "PuyCq0aGxJRR",
        "outputId": "7cf15bdb-823a-4482-f65e-0eeb71dbb308"
      },
      "execution_count": 77,
      "outputs": [
        {
          "output_type": "execute_result",
          "data": {
            "text/plain": [
              "300501.0"
            ]
          },
          "metadata": {},
          "execution_count": 77
        }
      ]
    }
  ]
}